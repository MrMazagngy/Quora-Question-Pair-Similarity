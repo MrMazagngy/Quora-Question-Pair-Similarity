{
  "nbformat": 4,
  "nbformat_minor": 0,
  "metadata": {
    "accelerator": "TPU",
    "colab": {
      "name": "BERT + CNN Quora Quesions Pairs.ipynb",
      "provenance": [],
      "collapsed_sections": [],
      "authorship_tag": "ABX9TyMCmgd1QmPF9t9Vlj4ixN2+",
      "include_colab_link": true
    },
    "kernelspec": {
      "display_name": "Python 3",
      "name": "python3"
    },
    "language_info": {
      "name": "python"
    }
  },
  "cells": [
    {
      "cell_type": "markdown",
      "metadata": {
        "id": "view-in-github",
        "colab_type": "text"
      },
      "source": [
        "<a href=\"https://colab.research.google.com/github/MrMazagngy/Quora-Question-Pair-Similarity/blob/main/BERT_%2B_CNN_Quora_Quesions_Pairs.ipynb\" target=\"_parent\"><img src=\"https://colab.research.google.com/assets/colab-badge.svg\" alt=\"Open In Colab\"/></a>"
      ]
    },
    {
      "cell_type": "code",
      "metadata": {
        "id": "dijXiw7nTJiC"
      },
      "source": [
        " ! pip install -q kaggle"
      ],
      "execution_count": 1,
      "outputs": []
    },
    {
      "cell_type": "code",
      "metadata": {
        "id": "BZnxduHuTT-z"
      },
      "source": [
        "from google.colab import files \n",
        "files.upload()"
      ],
      "execution_count": null,
      "outputs": []
    },
    {
      "cell_type": "code",
      "metadata": {
        "id": "xOvLFhdTTZKF"
      },
      "source": [
        "! mkdir ~/.kaggle \n",
        "! cp kaggle.json ~/.kaggle/\n",
        "! chmod 600 ~/.kaggle/kaggle.json"
      ],
      "execution_count": null,
      "outputs": []
    },
    {
      "cell_type": "code",
      "metadata": {
        "id": "Jh2yvmZYTe59"
      },
      "source": [
        "! kaggle competitions download quora-question-pairs\n",
        "!unzip \\*.zip  && rm *.zip"
      ],
      "execution_count": null,
      "outputs": []
    },
    {
      "cell_type": "code",
      "metadata": {
        "id": "Eo6twrsg83DC"
      },
      "source": [
        "!pip install transformers"
      ],
      "execution_count": null,
      "outputs": []
    },
    {
      "cell_type": "code",
      "metadata": {
        "id": "DyieoIl-U0Ws"
      },
      "source": [
        "import pandas as pd\n",
        "import transformers\n",
        "import torch \n",
        "from torch import nn\n",
        "import numpy as np\n",
        "from transformers import BertModel, BertTokenizer, AdamW, get_linear_schedule_with_warmup\n",
        "from torch.utils.data import Dataset, DataLoader\n",
        "import torch.nn.functional as F\n",
        "from sklearn.model_selection import train_test_split\n",
        "from collections import defaultdict\n",
        "import seaborn as sns \n",
        "import re\n",
        "from nltk.stem.wordnet import WordNetLemmatizer\n",
        "from nltk.corpus import stopwords\n",
        "import nltk\n",
        "nltk.download(\"popular\")\n"
      ],
      "execution_count": null,
      "outputs": []
    },
    {
      "cell_type": "code",
      "metadata": {
        "id": "RxAjzVTIIFyj"
      },
      "source": [
        "#Vaiables \n",
        "RANDOM_SEED = 2\n",
        "max_length = 128\n",
        "BATCH_SIZE = 32\n",
        "EPOCHS = 10"
      ],
      "execution_count": 7,
      "outputs": []
    },
    {
      "cell_type": "code",
      "metadata": {
        "id": "Hdcv48kEcrQO"
      },
      "source": [
        "#Define the Bert Tokenizer\n",
        "tokenizer = transformers.BertTokenizer.from_pretrained('bert-base-uncased')"
      ],
      "execution_count": 8,
      "outputs": []
    },
    {
      "cell_type": "code",
      "metadata": {
        "id": "Y9-DRSfkcoDD"
      },
      "source": [
        "#We will only work with the train set due to limited computational power\n",
        "df = pd.read_csv('train.csv')\n",
        "len(df)\n",
        "df = df[-300:]"
      ],
      "execution_count": 9,
      "outputs": []
    },
    {
      "cell_type": "code",
      "metadata": {
        "id": "RVr9g68ccF24"
      },
      "source": [
        "def preprocess(series):\n",
        "  #remove characters other than alphabets & numerics\n",
        "  words = re.sub(\"[^A-Za-z0-9]\",\" \",str(series)).lower().split()\n",
        "\n",
        "  #lemmatize words\n",
        "  lemm = WordNetLemmatizer()\n",
        "  stpwords = stopwords.words('english')\n",
        "  lemmitized = [lemm.lemmatize(word) for word in words if word not in stpwords]\n",
        "  sent = ' '.join(lemmitized)\n",
        "  return sent"
      ],
      "execution_count": 10,
      "outputs": []
    },
    {
      "cell_type": "code",
      "metadata": {
        "id": "aMYJvXq9cGdT"
      },
      "source": [
        "#Apply preprocessing\n",
        "\n",
        "df['question1'] =df['question1'].apply(preprocess)\n",
        "df['question2'] =df['question2'].apply(preprocess)"
      ],
      "execution_count": null,
      "outputs": []
    },
    {
      "cell_type": "code",
      "metadata": {
        "id": "SNPBrdHbVAgY"
      },
      "source": [
        "class Bert_QA (Dataset):\n",
        "    def __init__(self,q1,q2,label,max_length) :\n",
        "      self.q1  = q1\n",
        "      self.q2  = q2\n",
        "      self.label  = label\n",
        "      self.max_length = max_length\n",
        "\n",
        "    def __len__(self):\n",
        "      return len(self.q1)\n",
        "\n",
        "    def __getitem__ (self,item):\n",
        "      q1 = str(self.q1[item])\n",
        "      q2 = str(self.q2[item])\n",
        "\n",
        "      input = tokenizer.encode_plus (q1 ,q2  ,\n",
        "                                     add_special_tokens = True,\n",
        "                                     max_length = self.max_length,      \n",
        "                                     return_token_type_ids=False,\n",
        "                                     padding='max_length',\n",
        "                                     return_attention_mask=True,\n",
        "                                     truncation = True,\n",
        "                                     return_tensors='pt',)\n",
        "      ids = input['input_ids']\n",
        "      mask = input['attention_mask']\n",
        "\n",
        "      return {\n",
        "          'input_ids' : torch.tensor(ids,dtype=torch.long),\n",
        "          'attention_mask' : torch.tensor(mask,dtype=torch.long),\n",
        "          'target' : torch.tensor(int(self.label[item]),dtype=torch.float)\n",
        "\n",
        "      }"
      ],
      "execution_count": 10,
      "outputs": []
    },
    {
      "cell_type": "code",
      "metadata": {
        "id": "Ed3a3N4XZaEw"
      },
      "source": [
        "#Dataset splitting into train , validation , test\n",
        "df_train, df_test = train_test_split(df, test_size=0.3, random_state=RANDOM_SEED)\n",
        "df_val, df_test = train_test_split(df_test, test_size=0.25, random_state=RANDOM_SEED)"
      ],
      "execution_count": 11,
      "outputs": []
    },
    {
      "cell_type": "code",
      "metadata": {
        "id": "cvame8cAWgVr",
        "colab": {
          "base_uri": "https://localhost:8080/",
          "height": 352
        },
        "outputId": "669c2b5d-c49e-40a5-adb9-0281d4fbd8cf"
      },
      "source": [
        "#Check for Imbablanced labels\n",
        "sns.countplot(df.is_duplicate)"
      ],
      "execution_count": 14,
      "outputs": [
        {
          "output_type": "stream",
          "name": "stderr",
          "text": [
            "/usr/local/lib/python3.7/dist-packages/seaborn/_decorators.py:43: FutureWarning: Pass the following variable as a keyword arg: x. From version 0.12, the only valid positional argument will be `data`, and passing other arguments without an explicit keyword will result in an error or misinterpretation.\n",
            "  FutureWarning\n"
          ]
        },
        {
          "output_type": "execute_result",
          "data": {
            "text/plain": [
              "<matplotlib.axes._subplots.AxesSubplot at 0x7f15cc4c4a90>"
            ]
          },
          "metadata": {},
          "execution_count": 14
        },
        {
          "output_type": "display_data",
          "data": {
            "image/png": "[encoded data removed]",
            "text/plain": [
              "<Figure size 432x288 with 1 Axes>"
            ]
          },
          "metadata": {
            "needs_background": "light"
          }
        }
      ]
    },
    {
      "cell_type": "code",
      "metadata": {
        "id": "hHZ8bPRNZahV"
      },
      "source": [
        "def create_data_loader(df, max_len, batch_size):\n",
        "  ds = Bert_QA(\n",
        "    q1=df.question1.to_numpy(),\n",
        "    q2=df.question2.to_numpy(),\n",
        "    label=df.is_duplicate.to_numpy(),\n",
        "    max_length=max_len\n",
        "  )\n",
        "\n",
        "  return DataLoader(\n",
        "    ds,\n",
        "    batch_size=batch_size,\n",
        "    num_workers=4,\n",
        "    drop_last=True\n",
        "  )"
      ],
      "execution_count": 12,
      "outputs": []
    },
    {
      "cell_type": "code",
      "metadata": {
        "id": "8XbQ763hZlWS",
        "colab": {
          "base_uri": "https://localhost:8080/"
        },
        "outputId": "b4c64507-d879-4a5b-ff60-6f2dc245e971"
      },
      "source": [
        "train_data_loader = create_data_loader(df_train, max_length, BATCH_SIZE)\n",
        "val_data_loader = create_data_loader(df_val, max_length, BATCH_SIZE)\n",
        "test_data_loader = create_data_loader(df_test, max_length, BATCH_SIZE)"
      ],
      "execution_count": 13,
      "outputs": [
        {
          "output_type": "stream",
          "name": "stderr",
          "text": [
            "/usr/local/lib/python3.7/dist-packages/torch/utils/data/dataloader.py:481: UserWarning: This DataLoader will create 4 worker processes in total. Our suggested max number of worker in current system is 2, which is smaller than what this DataLoader is going to create. Please be aware that excessive worker creation might get DataLoader running slow or even freeze, lower the worker number to avoid potential slowness/freeze if necessary.\n",
            "  cpuset_checked))\n"
          ]
        }
      ]
    },
    {
      "cell_type": "code",
      "metadata": {
        "id": "gMn3e11WDQfH"
      },
      "source": [
        "#Model Archticture\n",
        "class Bert_model (nn.Module):\n",
        "  def __init__(self) :\n",
        "    super(Bert_model,self).__init__()\n",
        "    self.bert =  BertModel.from_pretrained('bert-base-uncased', return_dict=False)\n",
        "    self.drop_layer = nn.Dropout(.25)\n",
        "    self.output = nn.Linear(self.bert.config.hidden_size-2,1)\n",
        "    self.cnn = nn.Conv1d(max_length,1,3)\n",
        "\n",
        "  def forward(self,input_ids,attention_mask):\n",
        "    o1,o2 = self.bert (input_ids =input_ids , attention_mask = attention_mask )\n",
        "    o1 = self.cnn(o1)\n",
        "    o1 = torch.flatten(o1, start_dim=1)\n",
        "    o1 = self.drop_layer(o1)\n",
        "    out = torch.sigmoid(self.output(o1))\n",
        "    return out"
      ],
      "execution_count": 14,
      "outputs": []
    },
    {
      "cell_type": "code",
      "metadata": {
        "id": "lRLLgW9BZ196"
      },
      "source": [
        "device = torch.device(\"cuda:0\" if torch.cuda.is_available() else \"cpu\")\n",
        "model = Bert_model()\n",
        "model = model.to(device)\n",
        "print(model)"
      ],
      "execution_count": null,
      "outputs": []
    },
    {
      "cell_type": "code",
      "metadata": {
        "id": "2Gt0KD5EaCR5"
      },
      "source": [
        "optimizer = AdamW(model.parameters(), lr=2e-5, correct_bias=False, weight_decay=1e-5) #Optimizer with Regularization\n",
        "\n",
        "loss_fn = nn.BCELoss() #Loss Function"
      ],
      "execution_count": 16,
      "outputs": []
    },
    {
      "cell_type": "code",
      "metadata": {
        "id": "A5JC2EAaaL5n"
      },
      "source": [
        "def train_epoch(\n",
        "  model, \n",
        "  data_loader, \n",
        "  loss_fn, \n",
        "  optimizer, \n",
        "  device, \n",
        "  n_examples\n",
        "):\n",
        "  model = model.train()\n",
        "\n",
        "  losses = []\n",
        "  correct_predictions = 0\n",
        "  \n",
        "  for d in data_loader:\n",
        "    input_ids = d[\"input_ids\"].to(device)\n",
        "    attention_mask = d[\"attention_mask\"].to(device)\n",
        "    targets = d[\"target\"].to(device)\n",
        "\n",
        "    input_ids = input_ids.view(BATCH_SIZE,-1)\n",
        "    attention_mask = attention_mask.view(BATCH_SIZE,-1)\n",
        "\n",
        "    outputs = model(\n",
        "      input_ids=input_ids,\n",
        "      attention_mask=attention_mask\n",
        "    )\n",
        "\n",
        "    targets = targets.unsqueeze(-1)\n",
        "    loss = loss_fn(outputs, targets)\n",
        "\n",
        "    correct_predictions += torch.sum(np.round(outputs.detach()) == targets)\n",
        "    losses.append(loss.item())\n",
        "\n",
        "    loss.backward()\n",
        "    nn.utils.clip_grad_norm_(model.parameters(), max_norm=1.0)\n",
        "    optimizer.step()\n",
        "    optimizer.zero_grad()\n",
        "\n",
        "  return correct_predictions.double() / n_examples, np.mean(losses)"
      ],
      "execution_count": 17,
      "outputs": []
    },
    {
      "cell_type": "code",
      "metadata": {
        "id": "OFDEnLw3aOtY"
      },
      "source": [
        "def eval_epoch(model, data_loader, loss_fn, device, n_examples):\n",
        "  model = model.eval()\n",
        "\n",
        "  losses = []\n",
        "  correct_predictions = 0\n",
        "\n",
        "  with torch.no_grad():\n",
        "    for d in data_loader:\n",
        "      input_ids = d[\"input_ids\"].to(device)\n",
        "      attention_mask = d[\"attention_mask\"].to(device)\n",
        "      targets = d[\"target\"].to(device)\n",
        "      input_ids = input_ids.view(BATCH_SIZE,-1)\n",
        "      attention_mask = attention_mask.view(BATCH_SIZE,-1)\n",
        "      \n",
        "      outputs = model(\n",
        "        input_ids=input_ids,\n",
        "        attention_mask=attention_mask\n",
        "      )\n",
        "      targets = targets.unsqueeze(-1)\n",
        "      loss = loss_fn(outputs, targets)\n",
        "\n",
        "      correct_predictions += torch.sum(np.round(outputs.detach()) == targets)\n",
        "      losses.append(loss.item())\n",
        "\n",
        "  return correct_predictions.double() / n_examples, np.mean(losses)"
      ],
      "execution_count": 19,
      "outputs": []
    },
    {
      "cell_type": "code",
      "metadata": {
        "id": "w62oihQtaTuZ"
      },
      "source": [
        "%%time\n",
        "\n",
        "history = defaultdict(list)\n",
        "best_accuracy = 0\n",
        "\n",
        "for epoch in range(EPOCHS):\n",
        "\n",
        "  print(f'Epoch {epoch + 1}/{EPOCHS}')\n",
        "  print('-' * 10)\n",
        "\n",
        "  train_acc, train_loss = train_epoch(\n",
        "    model,\n",
        "    train_data_loader,    \n",
        "    loss_fn, \n",
        "    optimizer, \n",
        "    device, \n",
        "    len(df_train)\n",
        "  )\n",
        "\n",
        "  print(f'Train loss {train_loss} accuracy {train_acc}')\n",
        "\n",
        "  val_acc, val_loss = eval_epoch(\n",
        "    model,\n",
        "    val_data_loader,\n",
        "    loss_fn, \n",
        "    device, \n",
        "    len(df_val)\n",
        "  )\n",
        "\n",
        "  print(f'Val   loss {val_loss} accuracy {val_acc}')\n",
        "\n",
        "  history['train_acc'].append(train_acc)\n",
        "  history['train_loss'].append(train_loss)\n",
        "  history['val_acc'].append(val_acc)\n",
        "  history['val_loss'].append(val_loss)\n",
        "\n",
        "  if val_acc > best_accuracy:\n",
        "    torch.save(model.state_dict(), 'best_model_state.bin')\n",
        "    best_accuracy = val_acc"
      ],
      "execution_count": null,
      "outputs": []
    },
    {
      "cell_type": "code",
      "metadata": {
        "id": "xyQ9KvckH0Gd"
      },
      "source": [
        "plt.plot(history['train_loss'], label='train Loss')\n",
        "plt.plot(history['val_loss'], label='validation Loss')\n",
        "\n",
        "plt.title('Training history')\n",
        "plt.ylabel('Loss')\n",
        "plt.xlabel('Epoch')\n",
        "plt.legend()"
      ],
      "execution_count": null,
      "outputs": []
    }
  ]
}